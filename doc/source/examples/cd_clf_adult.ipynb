{
 "cells": [
  {
   "cell_type": "code",
   "execution_count": 1,
   "metadata": {},
   "outputs": [],
   "source": [
    "import os\n",
    "import numpy as np\n",
    "import pandas as pd\n",
    "from typing import List, Tuple, Dict, Callable\n",
    "\n",
    "from sklearn.svm import LinearSVC\n",
    "from sklearn.tree import DecisionTreeClassifier\n",
    "from sklearn.ensemble import RandomForestClassifier, GradientBoostingClassifier\n",
    "\n",
    "from sklearn.compose import ColumnTransformer\n",
    "from sklearn.preprocessing import StandardScaler, OneHotEncoder\n",
    "from sklearn.model_selection import train_test_split\n",
    "\n",
    "from alibi.datasets import fetch_adult\n",
    "from alibi_detect.cd import ClassifierDrift\n",
    "\n",
    "%load_ext autoreload\n",
    "%autoreload 2"
   ]
  },
  {
   "cell_type": "markdown",
   "metadata": {},
   "source": [
    "## Load Adult Census Dataset"
   ]
  },
  {
   "cell_type": "code",
   "execution_count": 2,
   "metadata": {},
   "outputs": [],
   "source": [
    "# fetch adult dataset\n",
    "adult = fetch_adult()\n",
    "\n",
    "# separate columns in numerical and categorical.\n",
    "categorical_names = [adult.feature_names[i] for i in adult.category_map.keys()]\n",
    "categorical_ids = list(adult.category_map.keys())\n",
    "\n",
    "numerical_names = [name for i, name in enumerate(adult.feature_names) if i not in adult.category_map.keys()]\n",
    "numerical_ids = [i for i in range(len(adult.feature_names)) if i not in adult.category_map.keys()]\n",
    "\n",
    "# split data into train and test\n",
    "X = adult.data"
   ]
  },
  {
   "cell_type": "markdown",
   "metadata": {},
   "source": [
    "We split the dataset in two based on the education level. We define a `low_education` level consisting of: `'Dropout'`, `'High School grad'`, `'Bachelors'`, and a `high_education` level consisting of: `'Bachelors'`, `'Masters'`, `'Doctorate'`. Intentionally we included an overlap between the two distribution consisting of people that have a `Bachelors` degree. Our goal is to detect that the two distributions are different."
   ]
  },
  {
   "cell_type": "code",
   "execution_count": 3,
   "metadata": {},
   "outputs": [
    {
     "name": "stdout",
     "output_type": "stream",
     "text": [
      "['Associates', 'Bachelors', 'Doctorate', 'Dropout', 'High School grad', 'Masters', 'Prof-School']\n"
     ]
    }
   ],
   "source": [
    "education_col = adult.feature_names.index('Education')\n",
    "education = adult.category_map[education_col]\n",
    "print(education)"
   ]
  },
  {
   "cell_type": "code",
   "execution_count": 4,
   "metadata": {},
   "outputs": [
    {
     "name": "stdout",
     "output_type": "stream",
     "text": [
      "Low education: ['Dropout', 'High School grad', 'Bachelors']\n",
      "High education: ['Bachelors', 'Masters', 'Doctorate']\n"
     ]
    }
   ],
   "source": [
    "# define low education\n",
    "low_education = [\n",
    "    education.index('Dropout'),\n",
    "    education.index('High School grad'),\n",
    "    education.index('Bachelors')\n",
    "    \n",
    "]\n",
    "# define high education\n",
    "high_education = [\n",
    "    education.index('Bachelors'),\n",
    "    education.index('Masters'),\n",
    "    education.index('Doctorate')\n",
    "]\n",
    "print(\"Low education:\", [education[i] for i in low_education])\n",
    "print(\"High education:\", [education[i] for i in high_education])"
   ]
  },
  {
   "cell_type": "code",
   "execution_count": 5,
   "metadata": {},
   "outputs": [],
   "source": [
    "# select instances for low and high education\n",
    "low_education_mask = pd.Series(X[:, education_col]).isin(low_education).to_numpy()\n",
    "high_education_mask = pd.Series(X[:, education_col]).isin(high_education).to_numpy()\n",
    "X_low, X_high = X[low_education_mask], X[high_education_mask]"
   ]
  },
  {
   "cell_type": "markdown",
   "metadata": {},
   "source": [
    "We sample our reference dataset from the `low_education` level. In addition, we sample two other datasets:\n",
    "\n",
    " * `x_h0` - sampled form the `low_education` level to support the null hypothesis (i.e., the two distribution are identical);\n",
    "\n",
    "* `x_h1` - sampled from the `high_education` level to support the alternative hypothesis (i.e., the two distributions are different);"
   ]
  },
  {
   "cell_type": "code",
   "execution_count": 6,
   "metadata": {},
   "outputs": [],
   "source": [
    "size = 1000\n",
    "np.random.seed(0)\n",
    "\n",
    "# define reference and H0 dataset\n",
    "idx_low = np.random.choice(np.arange(X_low.shape[0]), size=2*size, replace=False)\n",
    "x_ref, x_h0 = train_test_split(X_low[idx_low], test_size=0.5, random_state=5, shuffle=True)\n",
    "\n",
    "# define reference and H1 dataset\n",
    "idx_high = np.random.choice(np.arange(X_high.shape[0]), size=size, replace=False)\n",
    "x_h1 = X_high[idx_high]"
   ]
  },
  {
   "cell_type": "markdown",
   "metadata": {},
   "source": [
    "## Define dataset pre-processor"
   ]
  },
  {
   "cell_type": "code",
   "execution_count": 7,
   "metadata": {},
   "outputs": [],
   "source": [
    "# define numerical standard scaler.\n",
    "num_transf = StandardScaler()\n",
    "\n",
    "# define categorical one-hot encoder.\n",
    "cat_transf = OneHotEncoder(\n",
    "    categories=[range(len(x)) for x in adult.category_map.values()],\n",
    "    handle_unknown=\"ignore\"\n",
    ")\n",
    "\n",
    "# Define column transformer\n",
    "preprocessor = ColumnTransformer(\n",
    "    transformers=[\n",
    "        (\"cat\", cat_transf, categorical_ids),\n",
    "        (\"num\", num_transf, numerical_ids),\n",
    "    ],\n",
    "    sparse_threshold=0\n",
    ")\n",
    "\n",
    "# fit preprocessor.\n",
    "preprocessor = preprocessor.fit(np.concatenate([x_ref, x_h0, x_h1]))"
   ]
  },
  {
   "cell_type": "markdown",
   "metadata": {},
   "source": [
    "## Utils"
   ]
  },
  {
   "cell_type": "code",
   "execution_count": 8,
   "metadata": {},
   "outputs": [],
   "source": [
    "labels = ['No!', 'Yes!']\n",
    "\n",
    "def print_preds(preds: dict, preds_name: str) -> None:\n",
    "    print(preds_name)\n",
    "    print('Drift? {}'.format(labels[preds['data']['is_drift']]))\n",
    "    print(f'p-value: {preds[\"data\"][\"p_val\"]:.3f}')\n",
    "    print('')"
   ]
  },
  {
   "cell_type": "markdown",
   "metadata": {},
   "source": [
    "## Drift detection "
   ]
  },
  {
   "cell_type": "markdown",
   "metadata": {},
   "source": [
    "We perform a **binomial** test using a `RandomForestClassifier`. "
   ]
  },
  {
   "cell_type": "code",
   "execution_count": 9,
   "metadata": {},
   "outputs": [
    {
     "name": "stderr",
     "output_type": "stream",
     "text": [
      "Both `n_folds` and `train_size` specified. By default `n_folds` is used.\n",
      "`retrain_from_scratch=True` sets automatically the parameter `warm_start=False`.\n",
      "`use_oob=False` sets automatically the parameter `oob_score=False`\n"
     ]
    },
    {
     "name": "stdout",
     "output_type": "stream",
     "text": [
      "H0\n",
      "Drift? No!\n",
      "p-value: 0.681\n",
      "\n",
      "H1\n",
      "Drift? Yes!\n",
      "p-value: 0.000\n",
      "\n"
     ]
    }
   ],
   "source": [
    "# define classifier\n",
    "model = RandomForestClassifier()\n",
    "\n",
    "# define drift detector with binarize prediction\n",
    "detector = ClassifierDrift(\n",
    "    x_ref=x_ref,\n",
    "    model=model,\n",
    "    backend='sklearn',\n",
    "    preprocess_fn=preprocessor.transform,\n",
    "    binarize_preds=True,\n",
    "    n_folds=2,\n",
    ")\n",
    "\n",
    "# print results\n",
    "print_preds(detector.predict(x=x_h0), \"H0\")\n",
    "print_preds(detector.predict(x=x_h1), \"H1\")"
   ]
  },
  {
   "cell_type": "markdown",
   "metadata": {},
   "source": [
    "As expected, when testing against `x_h0`, we fail to reject $H_0$, while for the second case there is enough evidence to reject $H_0$ and flag that the data has drifted.\n",
    "\n",
    "For the classifiers that do not support `predict_proba`, but offer support for `decision_function`, we can perform a **K-S** test on the scores by setting `preds_type='scores'`."
   ]
  },
  {
   "cell_type": "code",
   "execution_count": 10,
   "metadata": {},
   "outputs": [
    {
     "name": "stderr",
     "output_type": "stream",
     "text": [
      "Both `n_folds` and `train_size` specified. By default `n_folds` is used.\n"
     ]
    },
    {
     "name": "stdout",
     "output_type": "stream",
     "text": [
      "H0\n",
      "Drift? No!\n",
      "p-value: 0.171\n",
      "\n",
      "H1\n",
      "Drift? Yes!\n",
      "p-value: 0.000\n",
      "\n"
     ]
    }
   ],
   "source": [
    "# define model - does not support predict_proba\n",
    "model = LinearSVC(max_iter=10000)\n",
    "\n",
    "# define drift detector with binarize prediction\n",
    "detector = ClassifierDrift(\n",
    "    x_ref=x_ref,\n",
    "    model=model,\n",
    "    backend='sklearn',\n",
    "    preprocess_fn=preprocessor.transform,\n",
    "    preds_type='scores',\n",
    "    binarize_preds=False,\n",
    "    n_folds=2,\n",
    ")\n",
    "\n",
    "# print results\n",
    "print_preds(detector.predict(x=x_h0), \"H0\")\n",
    "print_preds(detector.predict(x=x_h1), \"H1\")"
   ]
  },
  {
   "cell_type": "markdown",
   "metadata": {},
   "source": [
    "Furthermore, we can add calibration on top of each classifier and perform a **K-S** or a **binomial** test."
   ]
  },
  {
   "cell_type": "code",
   "execution_count": 11,
   "metadata": {},
   "outputs": [
    {
     "name": "stderr",
     "output_type": "stream",
     "text": [
      "Both `n_folds` and `train_size` specified. By default `n_folds` is used.\n",
      "`retrain_from_scratch=True` sets automatically the parameter `warm_start=False`.\n",
      "Using calibration to obtain the prediction probabilities.\n"
     ]
    },
    {
     "name": "stdout",
     "output_type": "stream",
     "text": [
      "H0\n",
      "Drift? No!\n",
      "p-value: 0.886\n",
      "\n",
      "H1\n",
      "Drift? Yes!\n",
      "p-value: 0.000\n",
      "\n"
     ]
    }
   ],
   "source": [
    "# define model - does not support predict_proba\n",
    "model = GradientBoostingClassifier()\n",
    "\n",
    "# define drift detector with binarize prediction\n",
    "detector = ClassifierDrift(\n",
    "    x_ref=x_ref,\n",
    "    model=model,\n",
    "    backend='sklearn',\n",
    "    preprocess_fn=preprocessor.transform,\n",
    "    binarize_preds=False,\n",
    "    n_folds=2,\n",
    "    use_calibration=True,\n",
    "    calibration_kwargs={'method': 'isotonic'}\n",
    ")\n",
    "\n",
    "# print results\n",
    "print_preds(detector.predict(x=x_h0), \"H0\")\n",
    "print_preds(detector.predict(x=x_h1), \"H1\")"
   ]
  },
  {
   "cell_type": "code",
   "execution_count": 16,
   "metadata": {},
   "outputs": [
    {
     "data": {
      "application/vnd.jupyter.widget-view+json": {
       "model_id": "f0132a9c104e4e2da84f4c2aa29c14a0",
       "version_major": 2,
       "version_minor": 0
      },
      "text/plain": [
       "  0%|          | 0/500 [00:00<?, ?it/s]"
      ]
     },
     "metadata": {},
     "output_type": "display_data"
    },
    {
     "name": "stdout",
     "output_type": "stream",
     "text": [
      "H1\n",
      "Drift? Yes!\n",
      "p-value: 0.000\n",
      "\n"
     ]
    }
   ],
   "source": [
    "# define classifier\n",
    "model = DecisionTreeClassifier()\n",
    "\n",
    "# define drift detector with binarize prediction\n",
    "detector = ClassifierDrift(\n",
    "    x_ref=x_ref,\n",
    "    model=model,\n",
    "    backend='sklearn',\n",
    "    preprocess_fn=preprocessor.transform,\n",
    "    binarize_preds=True,\n",
    "    use_shap=True,\n",
    "    shap_kwargs={'summarise_background': True,\n",
    "                 'n_background_samples': 50,\n",
    "                 'feature_names': adult.feature_names,\n",
    "                 'categorical_names': adult.category_map,\n",
    "#                  'distributed_opts': {'n_cpus': 8}\n",
    "    }\n",
    ")\n",
    "\n",
    "# print results\n",
    "print_preds(detector.predict(x=x_h1), \"H1\")"
   ]
  },
  {
   "cell_type": "code",
   "execution_count": 17,
   "metadata": {},
   "outputs": [
    {
     "data": {
      "text/plain": [
       "<BarContainer object of 12 artists>"
      ]
     },
     "execution_count": 17,
     "metadata": {},
     "output_type": "execute_result"
    },
    {
     "data": {
      "image/png": "[encoded data removed]",
      "text/plain": [
       "<Figure size 432x288 with 1 Axes>"
      ]
     },
     "metadata": {
      "needs_background": "light"
     },
     "output_type": "display_data"
    }
   ],
   "source": [
    "import matplotlib.pyplot as plt\n",
    "plt.barh(adult.feature_names, detector._detector.shap_oof)"
   ]
  },
  {
   "cell_type": "code",
   "execution_count": 18,
   "metadata": {},
   "outputs": [],
   "source": [
    "model = DecisionTreeClassifier()"
   ]
  },
  {
   "cell_type": "code",
   "execution_count": 19,
   "metadata": {},
   "outputs": [],
   "source": [
    "pred1 = model.predict_proba"
   ]
  },
  {
   "cell_type": "code",
   "execution_count": 21,
   "metadata": {},
   "outputs": [
    {
     "data": {
      "text/plain": [
       "DecisionTreeClassifier()"
      ]
     },
     "execution_count": 21,
     "metadata": {},
     "output_type": "execute_result"
    }
   ],
   "source": [
    "X_train = np.random.randn(100, 2)\n",
    "y_train = np.random.randint(0, 2, 100)\n",
    "model.fit(X_train, y_train)"
   ]
  },
  {
   "cell_type": "code",
   "execution_count": 23,
   "metadata": {},
   "outputs": [
    {
     "data": {
      "text/plain": [
       "True"
      ]
     },
     "execution_count": 23,
     "metadata": {},
     "output_type": "execute_result"
    }
   ],
   "source": [
    "pred1 == model.predict_proba"
   ]
  },
  {
   "cell_type": "code",
   "execution_count": null,
   "metadata": {},
   "outputs": [],
   "source": []
  }
 ],
 "metadata": {
  "kernelspec": {
   "display_name": "detect",
   "language": "python",
   "name": "detect"
  },
  "language_info": {
   "codemirror_mode": {
    "name": "ipython",
    "version": 3
   },
   "file_extension": ".py",
   "mimetype": "text/x-python",
   "name": "python",
   "nbconvert_exporter": "python",
   "pygments_lexer": "ipython3",
   "version": "3.8.12"
  }
 },
 "nbformat": 4,
 "nbformat_minor": 5
}
